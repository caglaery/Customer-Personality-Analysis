import pandas as pd
import numpy as np
import seaborn as sns
from matplotlib import pyplot as plt
from datetime import datetime
import datetime as dt
pd.set_option('display.max_columns', None)
pd.set_option('display.width', 500)
pd.set_option('display.float_format', lambda x: '%.4f' % x)

today_date=dt.datetime(2014,12,31)



df=pd.read_csv("marketing_campaign.csv",sep="\t")


df.head()


df["Dt_Customer"] = pd.to_datetime(df["Dt_Customer"], format="%d-%m-%Y")
df["Dt_Customer"].max()



df.head()


type(today_date)


df.info()


df["Income"].describe()


def outlier_thresholds(dataframe,variable):
        q1=dataframe[variable].quantile(0.25)
        q3=dataframe[variable].quantile(0.75)
        iqr=q3-q1
        lower=q1-1.5*iqr
        upper=q3+1.5*iqr
        return lower,upper




outlier_thresholds(df,"Income")


plt.figure(figsize=(6, 6))
sns.boxplot(y=df["Income"], 
            fliersize=8,   
            linewidth=1,   
            color="lightgreen",
            boxprops=dict(edgecolor='darkgreen'),     
            medianprops=dict(color="black", linewidth=2), 
            flierprops=dict(marker='o', color='red', markersize=8, markerfacecolor='red'))  # aykırı değer işaretleri

plt.title("BOXPLOT FOR INCOME", fontsize=14)
plt.ylabel("Income")
plt.grid(True, linestyle='--', alpha=0.5)


def check_outliers(dataframe,variable):
    lower,upper=outlier_thresholds(dataframe,variable)
    if dataframe[(dataframe[variable]<lower)|(dataframe[variable]>upper)].any(axis=None):
        return len(dataframe[(dataframe[variable] < lower) | (dataframe[variable] > upper)])
    else:
        return False
    


check_outliers(df,"Income")


def replace_wth_thresholds(dataframe,variable,inplace=True):
    lower,upper=outlier_thresholds(dataframe,variable)
    dataframe.loc[(dataframe[variable]<lower,variable)]=round(lower,0)
    dataframe.loc[(dataframe[variable]>upper,variable)]=round(upper,0)

    


replace_wth_thresholds(df,"Income")


df["Income"].describe()



sns.boxplot(y=df["Income"])


check_outliers(df,"Income")


df["Income_Cat"]=pd.qcut(df["Income"],4,labels=["Q1","Q2","Q3","Q4"])


df.shape


sns.barplot(x="Education", y="Recency", data=df)
plt.show()


df["Age"]=today_date.year-df["Year_Birth"]


df["Age"].shape[0]


sns.histplot(df['Age'], kde=True)
plt.show()


df["Age"].describe()


sns.scatterplot(data=df,x="Age",y="Recency")
plt.show()


df["TotalChildren"]=df["Teenhome"]+df["Kidhome"]


sns.lineplot(data=df,x="TotalChildren",y="Recency")
plt.show()


sns.countplot(data=df,x="Marital_Status",hue="Education")
plt.show()



df["Tenure"]=((today_date-df["Dt_Customer"]).dt.days/7).astype(int)


df.head()
df["Tenure"]


df["Age"].max()


df["Age_Cat"]=pd.cut(df["Age"],bins=[25,35,45,55,65,75,128],labels=["YoungAdults","Adults","Middle Ages","UpperMiddleAge","OlderAge","Seniors"])


df.head(10)


import matplotlib.ticker as mtick
df_percent = (
    df.groupby("Age_Cat")["Complain"]
    .value_counts(normalize=True)
    .rename("Percentage")
    .reset_index()
)
plt.figure(figsize=(10,6))
sns.barplot(data=df_percent, x="Age_Cat", y="Percentage", hue="Complain", palette="Set2")
plt.gca().yaxis.set_major_formatter(mtick.PercentFormatter(1.0))


df.pivot_table(index="Age_Cat",columns=None,values=["AcceptedCmp1","AcceptedCmp2","AcceptedCmp3","AcceptedCmp4","AcceptedCmp5"],aggfunc="mean",margins=True)


df.pivot_table(index="Age_Cat",columns=None,values=["MntWines","MntGoldProds","MntFishProducts","MntFruits","MntSweetProducts","MntMeatProducts"],aggfunc="sum",margins=True)


df.groupby("Age_Cat")["Complain"].value_counts()


df.groupby("Education")["Complain"].value_counts()


df.pivot_table(index="Marital_Status",columns=None,values=["MntWines","MntGoldProds","MntFishProducts","MntFruits","MntSweetProducts","MntMeatProducts"],aggfunc="sum",margins=True)





df["Frequency"]=df[["NumWebPurchases","NumCatalogPurchases","NumStorePurchases","NumWebVisitsMonth"]].sum(axis=1)


df=df[~((df["Frequency"]==0)&(df["Recency"]>0))]


df["Monetary"]=df[["MntWines","MntGoldProds","MntFishProducts","MntFruits","MntSweetProducts","MntMeatProducts"]].sum(axis=1)


df["Recency_Score"]=pd.cut(df["Recency"],5,labels=[5,4,3,2,1])
df["Frequency_Score"]=pd.cut(df["Frequency"].rank(method="first"),5,labels=[1,2,3,4,5])
df["Monetary_Score"]=pd.cut(df["Monetary"],5,labels=[1,2,3,4,5])


df["TotalMnt"]=df["MntWines"]+df["MntGoldProds"]+df["MntFishProducts"]+df["MntFruits"]+df["MntSweetProducts"]+df["MntMeatProducts"]


df.head(10)
df.info()


df["RF_Score"]=(df["Recency_Score"].astype(str))+(df["Frequency_Score"].astype(str))


seg_map={r'[1-2][1-2]':"hibernating",
        r'[1-2][3-4]':"at_Risk",
        r'[1-2]5':"cant_loose",
        r'3[1-2]':"about_to_sleep",
        r'33':"need_attention",
        r'[3-4][4-5]':"loyal_customers",
        r'41':"promising",
        r'51':"new_customers",
        r'[4-5][2-3]':"potential_loyalists",
        r'5[4-5]':"champions"}
df["Segment"]=df["RF_Score"].replace(seg_map,regex=True)


df.head(10)


df["Segment"].value_counts()


df.pivot_table(index="Age_Cat", columns="Segment", aggfunc="size", fill_value=0)



df.info()


campaigns=df[["AcceptedCmp1","AcceptedCmp2","AcceptedCmp3","AcceptedCmp4","AcceptedCmp5","Response"]]
df["Total_Acceptance"]=df["AcceptedCmp1"]+df["AcceptedCmp2"]+df["AcceptedCmp3"]+df["AcceptedCmp4"]+df["AcceptedCmp5"]+df["Response"]


campaigns.sum().sort_values().plot(kind="bar")


df.groupby("Education")["Total_Acceptance"].mean().sort_values(ascending=False)
df.groupby("Marital_Status")["Total_Acceptance"].mean().sort_values(ascending=False)
df.groupby("Age_Cat")["Total_Acceptance"].mean().sort_values(ascending=False)



df["Total_Acceptance"].corr(df["TotalMnt"])


df.columns


sns.heatmap(df[["Total_Acceptance", "TotalMnt", "Recency", "Income", "Monetary"]].corr(), annot=True, cmap="coolwarm", fmt=".2f")



df.groupby("Segment")["Total_Acceptance"].sum().sort_values(ascending=False)


df.groupby("Segment")[["AcceptedCmp1","AcceptedCmp2","AcceptedCmp3","AcceptedCmp4","AcceptedCmp5","Response"]].sum()





df.columns


today_date
df.shape


df["Total_Num_Purchases"]=df["NumDealsPurchases"]+df["NumWebPurchases"]+df["NumCatalogPurchases"]+df["NumStorePurchases"]


df["Avg_Order_Value"]=df["TotalMnt"]/df["Total_Num_Purchases"]


df["Purch_Freq"]=df["Total_Num_Purchases"]/df.shape[0]


df["Customer_Value"]=df["Avg_Order_Value"]*df["Purch_Freq"]


Repeat_Rate=df[df["Total_Num_Purchases"]>1].shape[0]/df.shape[0]


Churn_Rate=1-Repeat_Rate


Profit_Margin=0.10


Churn_Rate


df["CLTV"]=(df["Customer_Value"]/Churn_Rate)* Profit_Margin
df["CLTV"].isnull().sum()


df["CLTV"]=df["CLTV"].fillna(0)
df["CLTV"].isna().sum()


outlier_thresholds(df,"CLTV")
replace_wth_thresholds(df,"CLTV")


df.groupby("Segment")["CLTV"].mean().sort_values(ascending=False)


df["CLTV_Segment"]=pd.cut(df["CLTV"],4,labels=["Low","Medium","High","Very_High"])


df["CLTV_Segment"].value_counts()


sns.countplot(data=df,x="CLTV_Segment")
plt.title("CLTV_SEGMENT DISTRIBUTION")


df.groupby("Segment")["CLTV_Segment"].value_counts()
df.info()
df["Segment_Combined"]=df["Segment"] +"_"+ df["CLTV_Segment"].astype("string")


df.head(30)


df["Segment_Combined"].value_counts().sort_values(ascending=False)





df.groupby(["Segment_Combined","Education"]).size().sort_values(ascending=False)


df.columns


df.groupby(["Total_Acceptance","Segment_Combined"]).size().unstack(fill_value=0)





df.info()


df.dtypes


df.pivot_table(
    index="Segment_Combined",
    values=["AcceptedCmp1", "AcceptedCmp2", "AcceptedCmp3", "AcceptedCmp4", "AcceptedCmp5"],
    aggfunc="sum",
    margins=True,
    margins_name="*TOTAL*"
)


pivot_df = df.pivot_table(
    index='Segment', 
    values=['AcceptedCmp1', 'AcceptedCmp2', 'AcceptedCmp3', 'AcceptedCmp4', 'AcceptedCmp5'],
    aggfunc='sum'
)

plt.figure(figsize=(10, 7))
sns.heatmap(pivot_df, annot=True, fmt="d", cmap="YlOrRd", cbar=True)
plt.title('Campaign Acceptance Status by Segment')
plt.show()


pd.pivot_table(data=df,
    index="Segment_Combined",
    columns=["Age_Cat"],
    values=["Income"],
    margins=True,
    aggfunc="sum",
    margins_name="*TOTAL*")


plt.figure(figsize=(10, 6))
sns.barplot(data=df,x="Age_Cat",y="Segment_Combined",hue="Income_Cat").invert_yaxis()
plt.show()


plt.figure(figsize=(10, 6))
sns.barplot(data=df,hue="Income_Cat",x="CLTV_Segment",y="Age_Cat").invert_yaxis()
plt.show()



segment_percent = (
    df.groupby("Segment")["Complain"]
    .value_counts(normalize=True)
    .rename("Percentage")
    .reset_index()
)
plt.figure(figsize=(16,7))
sns.barplot(data=segment_percent, x="Segment", y="Percentage", hue="Complain", palette="Set2")
plt.gca().yaxis.set_major_formatter(mtick.PercentFormatter(1.0))


num_columns = ["Income", "Age", "Recency", "Total_Num_Purchases", "Monetary", 
               "TotalChildren", "Tenure", "Avg_Order_Value", "Purch_Freq", 
               "Customer_Value", "CLTV"]

correlation_matrix = df[num_columns].corr()

plt.figure(figsize=(10, 7))
sns.heatmap(correlation_matrix, annot=True, cmap="coolwarm", fmt=".2f", cbar=True)
plt.title("Correlation Matrix of Selected Numerical Variables")
plt.show()





from lifetimes import BetaGeoFitter
from lifetimes import GammaGammaFitter
from lifetimes.plotting import plot_period_transactions
from sklearn.preprocessing import MinMaxScaler



cltv_df=pd.DataFrame({"ID":df["ID"],
                      "Recency":df["Recency"]/7,
                      "Frequency":df["Frequency"],
                      "T": df["Tenure"],
                      "Monetary":df["Monetary"],
                      "CLTV_first":df["CLTV"],
                      "Segment":df["Segment"]})



cltv_df=cltv_df[(cltv_df["Frequency"]>=6)]
cltv_df=cltv_df[(cltv_df["Recency"]<=12)&(cltv_df["Recency"]>=3)]
cltv_df=cltv_df[(cltv_df["T"]>=40)]
cltv_df = cltv_df[cltv_df["Recency"] < cltv_df["T"]]
cltv_df.shape[0]

cltv_df.describe().T 



check_outliers(cltv_df,"T")
cltv_df.head()



cltv_df[cltv_df["CLTV_first"]==0].count()



bgf=BetaGeoFitter(penalizer_coef=0.01)


bgf.fit(cltv_df["Frequency"],
       cltv_df["Recency"],
       cltv_df["T"])






bgf.conditional_expected_number_of_purchases_up_to_time(4,cltv_df["Frequency"],
                                                        cltv_df["Recency"],
                                                        cltv_df["T"]).sort_values(ascending=False).head(10)





bgf.conditional_expected_number_of_purchases_up_to_time(24,cltv_df["Frequency"],
                                                        cltv_df["Recency"],
                                                        cltv_df["T"]).sort_values(ascending=False).head(10)






bgf.conditional_expected_number_of_purchases_up_to_time(52,cltv_df["Frequency"],
                                                        cltv_df["Recency"],
                                                        cltv_df["T"]).sort_values(ascending=False).head(10)





cltv_df["exp_num_sale_3m"]=bgf.predict(4*3,cltv_df["Frequency"],
                                           cltv_df["Recency"],
                                           cltv_df["T"],).sum()
cltv_df.groupby("Segment")["exp_num_sale_3m"].agg(["mean","count","sum"])


plot_period_transactions(bgf)
plt.show()





ggf=GammaGammaFitter(penalizer_coef=0.01)


ggf.fit(cltv_df["Frequency"],cltv_df["Monetary"])


cltv_df["exp_average_profit"]=ggf.conditional_expected_average_profit(cltv_df["Frequency"],cltv_df["Monetary"])
cltv_df.sort_values("exp_average_profit",ascending=False).head(10)






cltv=ggf.customer_lifetime_value(bgf,cltv_df["Frequency"],
             cltv_df["Recency"], 
             cltv_df["T"],
             cltv_df["Monetary"],
             time=12,
             freq="W",
             discount_rate=0.1)
cltv.head()



cltv.sort_values(ascending=False).head(10)


cltv = cltv.to_frame().reset_index()
cltv.columns = ["ID", "CLTV"]



cltv.sort_values(by="CLTV",ascending=False).head()


cltv["CLTV_form"]=cltv_df["CLTV_first"]
cltv["CLTV_form"].fillna(0,inplace=True)


cltv.sort_values(by="CLTV",ascending=False).head(30)


sns.scatterplot(data=cltv,x="CLTV",y="CLTV_form")


cltv["CLTV_form"].describe().T


corr_cltv=cltv[["CLTV", "CLTV_form"]].corr()



cltv["CLTV_form"].isnull().sum()


plt.figure(figsize=(6, 4))
sns.heatmap(corr_cltv, annot=True, cmap="coolwarm", fmt=".2f")
plt.title("CLTV vs CLTV_form Correlation")
plt.show()



